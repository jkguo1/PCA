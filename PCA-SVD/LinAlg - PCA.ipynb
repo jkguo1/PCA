{
 "cells": [
  {
   "cell_type": "code",
   "execution_count": 1,
   "metadata": {},
   "outputs": [],
   "source": [
    "%matplotlib inline\n",
    "import numpy as np\n",
    "from numpy import mean,cov,cumsum,dot,linalg,size,flipud\n",
    "import matplotlib.pyplot as plt\n",
    "import pandas as pd\n",
    "import time\n",
    "import math as math"
   ]
  },
  {
   "cell_type": "markdown",
   "metadata": {},
   "source": [
    "# Principal Component Analysis and SVD\n",
    "\n",
    "- Given a data matrix $X$, we can either compute the eigendecomposition of the matrix $W = X^T X$ or carry out the singular value decomposition of the matrix $X$ to find the components, transformed data, and explained variance. The SVD can be applied to any matrix while the eigendecomposition is only applicable to diagonalizable matrices.\n",
    "\n",
    "- In the SVD, we write $X = U \\Sigma V^T$. $U$ is the left singular vectors, $V$ is the right singular vectors, and $\\Sigma$ contains the singular values on the diagonal, denoted by $\\sigma_1, \\sigma_2, ..., \\sigma_n$.\n",
    "\n",
    "- Singular values in $\\Sigma$ are not identical to the eigenvalues of $W$, but are ordered in the diagonalized matrix $\\Sigma$ and correspond to the rows and columns of $U$ and $V$.\n",
    "\n",
    "- We have $U^* U = I$ and $V^* V = I$, orthonormal vectors. \n",
    "\n",
    "- The colums of U (the left singular vectors) are the eigenvectors of $X X^T$ and the columns of V ( the right singular vectors) are the eigenvectors of $X^T X$. \n",
    "\n",
    "- We have $T = XV = U\\Sigma V^T V = U \\Sigma$\n",
    "\n",
    "- There are more efficient algorithms for finding the SVD of a matrix without computing the matrix $X^T X$ and are therefore used to calculate PCA from a given matrix.\n",
    "\n",
    "- We will walk through the basic implementations of PCA before proceeding to compare their accuracy, speed, and improve on them using the Jacobi rotation."
   ]
  },
  {
   "cell_type": "markdown",
   "metadata": {},
   "source": [
    "## PCA using eigendecomposition of covariance matrix\n",
    "\n",
    "Below is an implementation of PCA using the eigendecomposition of the covariance matrix. It is applied to the data set Spellman.csv and returns 10 principal components. It has a runtime of ~50 s."
   ]
  },
  {
   "cell_type": "code",
   "execution_count": 2,
   "metadata": {},
   "outputs": [
    {
     "name": "stdout",
     "output_type": "stream",
     "text": [
      "[235.50172182+0.j 123.19852557+0.j 113.86092719+0.j  55.12329321+0.j\n",
      "  53.14661104+0.j  33.60347468+0.j  28.05984317+0.j  24.80417358+0.j\n",
      "  20.5636625 +0.j  18.13889671+0.j]\n",
      "[[ 7.14445411e-03+0.j -7.47295032e-03+0.j -1.31594614e-02+0.j ...\n",
      "   3.05874972e-02+0.j -2.66811931e-02+0.j -2.14325097e-02+0.j]\n",
      " [ 1.20741211e-03+0.j  4.70149386e-03+0.j -3.54778845e-05+0.j ...\n",
      "  -1.18248037e-02+0.j  1.20241582e-02+0.j  1.99340255e-02+0.j]\n",
      " [-1.45178046e-02+0.j -2.17598908e-03+0.j -4.50920874e-04+0.j ...\n",
      "   9.58959750e-03+0.j -2.44864675e-02+0.j -1.79536519e-02+0.j]\n",
      " ...\n",
      " [-7.32517694e-03+0.j -1.93824994e-03+0.j -7.03244985e-03+0.j ...\n",
      "   3.00172411e-02+0.j -4.76846278e-03+0.j -3.96291502e-02+0.j]\n",
      " [ 5.52210565e-03+0.j  1.02511141e-02+0.j  9.21126041e-04+0.j ...\n",
      "   1.31718194e-02+0.j -4.71804087e-03+0.j  1.43539550e-02+0.j]\n",
      " [ 1.79824692e-02+0.j  1.03062238e-02+0.j  1.48932593e-02+0.j ...\n",
      "   1.31707481e-02+0.j  1.65069456e-02+0.j  2.00622126e-02+0.j]]\n",
      "[[-1.91350815e+01+0.j -1.22573679e+01+0.j -1.37852917e+01+0.j\n",
      "  -4.42907708e+00+0.j -1.16717579e+01+0.j  6.73351550e+00+0.j\n",
      "   4.31894879e+00+0.j  1.63338675e+00+0.j -1.13253582e+00+0.j\n",
      "  -9.40991916e-01+0.j]\n",
      " [-2.04076470e+01+0.j -1.64827581e+01+0.j -1.21450987e+01+0.j\n",
      "   7.67012377e-02+0.j -8.41140201e+00+0.j  3.01258545e+00+0.j\n",
      "   4.14757090e+00+0.j  2.41421445e+00+0.j  1.86486323e+00+0.j\n",
      "  -1.61604902e+00+0.j]\n",
      " [-1.58705022e+01+0.j -1.50885409e+01+0.j -1.69688730e+00+0.j\n",
      "   2.88428425e+00+0.j -2.35551830e+00+0.j  4.42321035e-01+0.j\n",
      "   1.35675639e-01+0.j  1.53978006e-01+0.j  2.51803713e+00+0.j\n",
      "   3.40588820e+00+0.j]\n",
      " [-1.13333573e+01+0.j -1.36943236e+01+0.j  8.75132416e+00+0.j\n",
      "   5.69186722e+00+0.j  3.70036534e+00+0.j -2.12794334e+00+0.j\n",
      "  -3.87621964e+00+0.j -2.10625845e+00+0.j  3.17121104e+00+0.j\n",
      "   8.42782540e+00+0.j]\n",
      " [ 1.26740313e+01+0.j -1.45786732e+01+0.j  6.81074180e+00+0.j\n",
      "   1.05945247e+00+0.j -4.97000961e-01+0.j -8.07371963e+00+0.j\n",
      "  -2.51103951e+00+0.j -1.85529809e+00+0.j  8.43165162e+00+0.j\n",
      "  -3.23535248e+00+0.j]\n",
      " [-1.11243325e+01+0.j -3.67752472e+00+0.j  2.10901478e+01+0.j\n",
      "  -4.82093905e-01+0.j  2.35180157e+00+0.j -7.22710804e-03+0.j\n",
      "  -9.12566082e-01+0.j  9.70877710e-01+0.j -3.60149786e-01+0.j\n",
      "   4.59886548e+00+0.j]\n",
      " [ 1.34471034e+01+0.j -5.08576179e+00+0.j  1.12077799e+01+0.j\n",
      "  -2.11199917e+00+0.j -6.36378720e+00+0.j  5.11570933e+00+0.j\n",
      "  -9.30454522e+00+0.j  6.10928697e+00+0.j  9.35774741e-01+0.j\n",
      "  -9.11344223e+00+0.j]\n",
      " [-5.84534864e+00+0.j  6.15869977e+00+0.j  1.82910807e+01+0.j\n",
      "  -6.16315671e+00+0.j -3.61669340e+00+0.j  5.34218389e+00+0.j\n",
      "  -3.58791817e+00+0.j -1.92265439e+00+0.j -3.69187277e+00+0.j\n",
      "   1.72498826e+00+0.j]\n",
      " [ 2.09185250e+01+0.j  1.40872257e+00+0.j  7.01157726e+00+0.j\n",
      "  -1.73349281e+01+0.j -5.80950752e+00+0.j -3.82395313e+00+0.j\n",
      "   1.62118968e+00+0.j  3.86215578e+00+0.j  2.87462234e+00+0.j\n",
      "  -1.94405391e+00+0.j]\n",
      " [-1.21789353e+01+0.j  1.02137013e+01+0.j -9.92682002e-01+0.j\n",
      "  -1.35983288e+01+0.j  3.70784829e+00+0.j  5.27397208e+00+0.j\n",
      "  -1.00352636e+00+0.j -3.25432741e+00+0.j -5.70301193e+00+0.j\n",
      "   2.60121934e+00+0.j]\n",
      " [ 8.09865290e+00+0.j -1.08274494e-01+0.j -1.28330807e+01+0.j\n",
      "  -1.15633892e+01+0.j  2.36597242e+00+0.j -6.74825572e+00+0.j\n",
      "  -1.87507735e-01+0.j  2.94701980e+00+0.j -6.84122854e+00+0.j\n",
      "   3.99480961e+00+0.j]\n",
      " [-7.19895781e+00+0.j  6.33172428e-01+0.j -1.14116661e+01+0.j\n",
      "  -5.07491515e+00+0.j  1.05005880e+01+0.j  3.03161876e+00+0.j\n",
      "  -4.69907230e+00+0.j -1.01805980e+01+0.j  3.07010124e-01+0.j\n",
      "  -6.54959586e+00+0.j]\n",
      " [ 1.22905656e+01+0.j -5.99464763e+00+0.j -1.18961433e+01+0.j\n",
      "  -4.02704615e+00+0.j  7.25351087e+00+0.j -1.20598526e+01+0.j\n",
      "   1.17011538e+00+0.j  2.88289574e+00+0.j -3.54186910e-01+0.j\n",
      "   2.97689154e+00+0.j]\n",
      " [-7.33952305e+00+0.j -2.26818759e+00+0.j -7.37344058e+00+0.j\n",
      "   5.68427746e+00+0.j  6.91032576e+00+0.j -3.50431351e+00+0.j\n",
      "  -8.07913821e+00+0.j -7.69234188e+00+0.j -1.31149594e+00+0.j\n",
      "  -4.34758167e+00+0.j]\n",
      " [ 1.79302863e+01+0.j -6.38962633e+00+0.j -6.82872486e+00+0.j\n",
      "   1.28837348e+01+0.j  7.77457790e+00+0.j  4.12604361e+00+0.j\n",
      "  -3.25455740e+00+0.j  1.03017907e+01+0.j -8.46211399e+00+0.j\n",
      "  -1.10903465e+00+0.j]\n",
      " [-1.17725918e+01+0.j  2.27798538e+00+0.j  1.16038685e+01+0.j\n",
      "   7.21707984e+00+0.j  3.18668578e+00+0.j -3.74618427e+00+0.j\n",
      "   5.08440592e+00+0.j  2.90622075e+00+0.j -4.48672434e+00+0.j\n",
      "  -1.36472942e+00+0.j]\n",
      " [ 1.67683227e+01+0.j -3.93627611e+00+0.j  4.80204573e+00+0.j\n",
      "   5.38455396e+00+0.j  3.80212632e+00+0.j  3.84626306e+00+0.j\n",
      "   1.57649656e+01+0.j -5.19039809e+00+0.j -2.44704883e+00+0.j\n",
      "  -4.81219107e+00+0.j]\n",
      " [-7.60185690e+00+0.j  8.39965813e+00+0.j  1.40031847e+01+0.j\n",
      "   3.26122757e+00+0.j  2.45990544e+00+0.j -1.43647806e+00+0.j\n",
      "   2.00583691e+00+0.j -3.33344701e-01+0.j -2.71001415e+00+0.j\n",
      "  -1.27776048e+00+0.j]\n",
      " [ 2.64430088e+01+0.j  1.87891200e+00+0.j  1.83699844e+00+0.j\n",
      "   8.37904036e-01+0.j -2.48864547e+00+0.j  1.63444231e+00+0.j\n",
      "   6.03722627e+00+0.j -7.48614824e+00+0.j  2.61692658e+00+0.j\n",
      "   3.20128717e+00+0.j]\n",
      " [ 7.91661078e+00+0.j  1.66828855e+01+0.j -6.92465784e+00+0.j\n",
      "   1.14938763e+01+0.j -2.21985491e+01+0.j -6.96194612e+00+0.j\n",
      "  -4.27442260e+00+0.j -5.46002275e+00+0.j -4.47665630e+00+0.j\n",
      "   1.62235185e+00+0.j]\n",
      " [ 2.39749677e+01+0.j  8.39035770e+00+0.j -9.84525422e+00+0.j\n",
      "   3.76118283e+00+0.j  3.26844971e+00+0.j  1.40587046e+01+0.j\n",
      "  -3.43109394e+00+0.j  1.04154561e+00+0.j  6.41608816e+00+0.j\n",
      "   7.15967587e+00+0.j]\n",
      " [-1.68891289e+01+0.j  2.32381748e+01+0.j -4.57693037e+00+0.j\n",
      "   1.99604629e+00+0.j  2.63470883e+00+0.j -1.80457969e+00+0.j\n",
      "   2.77439861e+00+0.j  5.77482119e+00+0.j  6.87657307e+00+0.j\n",
      "  -2.09157837e+00+0.j]\n",
      " [-1.37648117e+01+0.j  2.02796928e+01+0.j -5.09889131e+00+0.j\n",
      "   2.55274605e+00+0.j  3.49599558e+00+0.j -2.32290650e+00+0.j\n",
      "   2.06127347e+00+0.j  4.48319851e+00+0.j  5.96428126e+00+0.j\n",
      "  -1.31144164e+00+0.j]]\n",
      "--- 50.619702100753784 seconds ---\n"
     ]
    }
   ],
   "source": [
    "def PCA(name, numpc):\n",
    "    \n",
    "    A = pd.read_csv(name)\n",
    "    A = np.array(A.iloc[:,1:]) # This step is specific to the Spellman.csv file to remove the first column\n",
    "    M = (A - np.mean(A, axis = 0)).T # subtract the mean (along columns)\n",
    "    [val,vec] = linalg.eig(cov(M))\n",
    "    \n",
    "    p = size(vec,axis=1)\n",
    "    index = np.argsort(val) # sorting the eigenvalues\n",
    "    index = index[::-1]       # in ascending order\n",
    "    \n",
    "    # sorting eigenvectors according to the sorted eigenvalues\n",
    "    vec = vec[:,index]\n",
    "    val = val[index] # sorting eigenvalues\n",
    "    \n",
    "    if numpc < p and numpc >= 0:\n",
    "        vec = vec[:,range(numpc)] # cutting some PCs if needed\n",
    "    score = dot(vec.T,M) # projection of the data in the new space\n",
    "    return score.T, val[:numpc], vec.T\n",
    "\n",
    "start_time = time.time()\n",
    "\n",
    "score1, val1, vec1 = PCA('Spellman.csv', 10)\n",
    "\n",
    "\n",
    "print(val1)\n",
    "\n",
    "print(vec1)\n",
    "\n",
    "print(score1)\n",
    "\n",
    "print(\"--- %s seconds ---\" % (time.time() - start_time))\n",
    "\n",
    "\n"
   ]
  },
  {
   "cell_type": "markdown",
   "metadata": {},
   "source": [
    "The components and singular values computed from the PCA package were used to plot the transformed data on the two principal components, plot the cumulative explained variance, and measure the error compared to the first PCA function, demonstrating significant time reduction."
   ]
  },
  {
   "cell_type": "code",
   "execution_count": 16,
   "metadata": {},
   "outputs": [
    {
     "name": "stdout",
     "output_type": "stream",
     "text": [
      "[71.97942678 52.06119056 50.0493796  34.82402117 34.19393869 27.18963852\n",
      " 24.84585578 23.36004749 21.26971022 19.97637923]\n",
      "[[ 7.14445411e-03 -7.47295033e-03 -1.31594614e-02 ...  3.05874972e-02\n",
      "  -2.66811931e-02 -2.14325096e-02]\n",
      " [ 1.20741207e-03  4.70149378e-03 -3.54778711e-05 ... -1.18248037e-02\n",
      "   1.20241581e-02  1.99340256e-02]\n",
      " [-1.45178046e-02 -2.17598909e-03 -4.50920873e-04 ...  9.58959750e-03\n",
      "  -2.44864675e-02 -1.79536519e-02]\n",
      " ...\n",
      " [-7.32521894e-03 -1.93832739e-03 -7.03243762e-03 ...  3.00172084e-02\n",
      "  -4.76848222e-03 -3.96290610e-02]\n",
      " [-5.52189567e-03 -1.02507275e-02 -9.21186055e-04 ... -1.31716572e-02\n",
      "   4.71813787e-03 -1.43543984e-02]\n",
      " [-1.79823407e-02 -1.03059871e-02 -1.48932953e-02 ... -1.31706499e-02\n",
      "  -1.65068867e-02 -2.00624847e-02]]\n",
      "--- 0.41463613510131836 seconds ---\n",
      "[[-1.91350815e+01 -1.22573679e+01 -1.37852917e+01  4.42907759e+00\n",
      "   1.16717584e+01  6.73351576e+00  4.31892863e+00  1.63336727e+00\n",
      "   1.13263282e+00  9.41051210e-01]\n",
      " [-2.04076470e+01 -1.64827581e+01 -1.21450987e+01 -7.67016571e-02\n",
      "   8.41140162e+00  3.01258524e+00  4.14758747e+00  2.41423049e+00\n",
      "  -1.86494308e+00  1.61600026e+00]\n",
      " [-1.58705022e+01 -1.50885409e+01 -1.69688730e+00 -2.88428443e+00\n",
      "   2.35551815e+00  4.42320949e-01  1.35682440e-01  1.53984580e-01\n",
      "  -2.51806986e+00 -3.40590828e+00]\n",
      " [-1.13333573e+01 -1.36943236e+01  8.75132416e+00 -5.69186714e+00\n",
      "  -3.70036527e+00 -2.12794330e+00 -3.87622261e+00 -2.10626135e+00\n",
      "  -3.17119666e+00 -8.42781680e+00]\n",
      " [ 1.26740313e+01 -1.45786732e+01  6.81074180e+00 -1.05945240e+00\n",
      "   4.97001029e-01 -8.07371959e+00 -2.51104248e+00 -1.85530099e+00\n",
      "  -8.43163740e+00  3.23536106e+00]\n",
      " [-1.11243325e+01 -3.67752472e+00  2.10901478e+01  4.82093917e-01\n",
      "  -2.35180156e+00 -7.22710270e-03 -9.12566501e-01  9.70877310e-01\n",
      "   3.60151771e-01 -4.59886439e+00]\n",
      " [ 1.34471034e+01 -5.08576179e+00  1.12077799e+01  2.11199920e+00\n",
      "   6.36378723e+00  5.11570934e+00 -9.30454630e+00  6.10928593e+00\n",
      "  -9.35769935e-01  9.11344495e+00]\n",
      " [-5.84534864e+00  6.15869977e+00  1.82910807e+01  6.16315672e+00\n",
      "   3.61669342e+00  5.34218390e+00 -3.58791882e+00 -1.92265502e+00\n",
      "   3.69187603e+00 -1.72498619e+00]\n",
      " [ 2.09185250e+01  1.40872257e+00  7.01157726e+00  1.73349281e+01\n",
      "   5.80950751e+00 -3.82395313e+00  1.62118987e+00  3.86215596e+00\n",
      "  -2.87462322e+00  1.94405371e+00]\n",
      " [-1.21789353e+01  1.02137013e+01 -9.92682002e-01  1.35983288e+01\n",
      "  -3.70784830e+00  5.27397208e+00 -1.00352613e+00 -3.25432722e+00\n",
      "   5.70301152e+00 -2.60121927e+00]\n",
      " [ 8.09865290e+00 -1.08274489e-01 -1.28330807e+01  1.15633891e+01\n",
      "  -2.36597254e+00 -6.74825578e+00 -1.87502670e-01  2.94702477e+00\n",
      "   6.84120344e+00 -3.99482537e+00]\n",
      " [-7.19895781e+00  6.33172428e-01 -1.14116661e+01  5.07491513e+00\n",
      "  -1.05005881e+01  3.03161875e+00 -4.69907145e+00 -1.01805972e+01\n",
      "  -3.07014218e-01  6.54959350e+00]\n",
      " [ 1.22905656e+01 -5.99464763e+00 -1.18961433e+01  4.02704614e+00\n",
      "  -7.25351088e+00 -1.20598526e+01  1.17011569e+00  2.88289601e+00\n",
      "   3.54186011e-01 -2.97689201e+00]\n",
      " [-7.33952305e+00 -2.26818759e+00 -7.37344058e+00 -5.68427751e+00\n",
      "  -6.91032581e+00 -3.50431353e+00 -8.07913598e+00 -7.69233975e+00\n",
      "   1.31148526e+00  4.34757522e+00]\n",
      " [ 1.79302863e+01 -6.38962633e+00 -6.82872486e+00 -1.28837348e+01\n",
      "  -7.77457787e+00  4.12604362e+00 -3.25455851e+00  1.03017897e+01\n",
      "   8.46211951e+00  1.10903857e+00]\n",
      " [-1.17725918e+01  2.27798537e+00  1.16038685e+01 -7.21707974e+00\n",
      "  -3.18668570e+00 -3.74618422e+00  5.08440205e+00  2.90621704e+00\n",
      "   4.48674291e+00  1.36474087e+00]\n",
      " [ 1.67683227e+01 -3.93627610e+00  4.80204573e+00 -5.38455399e+00\n",
      "  -3.80212636e+00  3.84626305e+00  1.57649671e+01 -5.19039662e+00\n",
      "   2.44704156e+00  4.81218664e+00]\n",
      " [-7.60185690e+00  8.39965814e+00  1.40031847e+01 -3.26122776e+00\n",
      "  -2.45990561e+00 -1.43647815e+00  2.00584411e+00 -3.33337736e-01\n",
      "   2.70997960e+00  1.27773941e+00]\n",
      " [ 2.64430088e+01  1.87891200e+00  1.83699844e+00 -8.37903996e-01\n",
      "   2.48864551e+00  1.63444233e+00  6.03722473e+00 -7.48614973e+00\n",
      "  -2.61691919e+00 -3.20128280e+00]\n",
      " [ 7.91661078e+00  1.66828855e+01 -6.92465784e+00 -1.14938763e+01\n",
      "   2.21985490e+01 -6.96194614e+00 -4.27442068e+00 -5.46002090e+00\n",
      "   4.47664732e+00 -1.62235718e+00]\n",
      " [ 2.39749677e+01  8.39035770e+00 -9.84525422e+00 -3.76118293e+00\n",
      "  -3.26844980e+00  1.40587046e+01 -3.43108996e+00  1.04154944e+00\n",
      "  -6.41610732e+00 -7.15968792e+00]\n",
      " [-1.68891289e+01  2.32381748e+01 -4.57693036e+00 -1.99604779e+00\n",
      "  -2.63471019e+00 -1.80458044e+00  2.77445792e+00  5.77487853e+00\n",
      "  -6.87685817e+00  2.09140433e+00]\n",
      " [-1.37648117e+01  2.02796927e+01 -5.09889132e+00 -2.55274424e+00\n",
      "  -3.49599393e+00 -2.32290560e+00  2.06120208e+00  4.48312951e+00\n",
      "  -5.96393870e+00  1.31165045e+00]]\n"
     ]
    },
    {
     "data": {
      "text/plain": [
       "Text(0, 0.5, 'component 2')"
      ]
     },
     "execution_count": 16,
     "metadata": {},
     "output_type": "execute_result"
    },
    {
     "data": {
      "image/png": "[encoded data removed]",
      "text/plain": [
       "<Figure size 432x288 with 1 Axes>"
      ]
     },
     "metadata": {
      "needs_background": "light"
     },
     "output_type": "display_data"
    }
   ],
   "source": [
    "from sklearn.decomposition import PCA\n",
    "\n",
    "start_time = time.time()\n",
    "\n",
    "data1 = pd.read_csv('Spellman.csv')\n",
    "A = np.array(data1.iloc[:,1:])\n",
    "pca = PCA(n_components=10)\n",
    "pca.fit(A)\n",
    "\n",
    "print(pca.singular_values_)\n",
    "print(pca.components_)\n",
    "\n",
    "print(\"--- %s seconds ---\" % (time.time() - start_time))\n",
    "\n",
    "\n",
    "print(pca.transform(A))\n",
    "\n",
    "A_pca = pca.transform(A)\n",
    "plt.scatter(A_pca[:, 0], A_pca[:, 1], alpha=0.4)\n",
    "plt.xlabel('component 1')\n",
    "plt.ylabel('component 2')\n",
    "\n",
    "\n",
    "\n"
   ]
  },
  {
   "cell_type": "code",
   "execution_count": 17,
   "metadata": {},
   "outputs": [
    {
     "data": {
      "text/plain": [
       "Text(0, 0.5, 'cumulative explained variance')"
      ]
     },
     "execution_count": 17,
     "metadata": {},
     "output_type": "execute_result"
    },
    {
     "data": {
      "image/png": "[encoded data removed]",
      "text/plain": [
       "<Figure size 432x288 with 1 Axes>"
      ]
     },
     "metadata": {
      "needs_background": "light"
     },
     "output_type": "display_data"
    }
   ],
   "source": [
    "plt.plot(np.cumsum(pca.explained_variance_ratio_))\n",
    "plt.xlabel('number of components')\n",
    "plt.ylabel('cumulative explained variance')"
   ]
  },
  {
   "cell_type": "code",
   "execution_count": 18,
   "metadata": {},
   "outputs": [
    {
     "name": "stdout",
     "output_type": "stream",
     "text": [
      "[235.50172182+0.j 123.19852557+0.j 113.86092719+0.j  55.12329321+0.j\n",
      "  53.14661104+0.j  33.60347468+0.j  28.05984317+0.j  24.80417358+0.j\n",
      "  20.5636625 +0.j  18.13889671+0.j]\n"
     ]
    },
    {
     "name": "stderr",
     "output_type": "stream",
     "text": [
      "/anaconda3/lib/python3.7/site-packages/numpy/core/numeric.py:538: ComplexWarning: Casting complex values to real discards the imaginary part\n",
      "  return array(a, dtype, copy=False, order=order)\n"
     ]
    },
    {
     "data": {
      "image/png": "[encoded data removed]",
      "text/plain": [
       "<Figure size 432x288 with 1 Axes>"
      ]
     },
     "metadata": {
      "needs_background": "light"
     },
     "output_type": "display_data"
    }
   ],
   "source": [
    "plt.plot(val1, (pca.singular_values_**2)/22, 'ro')\n",
    "plt.xlabel('Eigendecomposition')\n",
    "plt.ylabel('SVD Singval');\n",
    "\n",
    "print(val1)"
   ]
  },
  {
   "cell_type": "code",
   "execution_count": 19,
   "metadata": {},
   "outputs": [
    {
     "data": {
      "text/plain": [
       "[<matplotlib.lines.Line2D at 0x11b22e128>]"
      ]
     },
     "execution_count": 19,
     "metadata": {},
     "output_type": "execute_result"
    },
    {
     "data": {
      "image/png": "[encoded data removed]",
      "text/plain": [
       "<Figure size 432x288 with 1 Axes>"
      ]
     },
     "metadata": {
      "needs_background": "light"
     },
     "output_type": "display_data"
    }
   ],
   "source": [
    "errors = (val1 - (pca.singular_values_**2)/22)/((pca.singular_values_**2)/22)\n",
    "plt.plot(errors, 'ro')"
   ]
  },
  {
   "cell_type": "code",
   "execution_count": 20,
   "metadata": {},
   "outputs": [
    {
     "name": "stderr",
     "output_type": "stream",
     "text": [
      "/anaconda3/lib/python3.7/site-packages/numpy/core/numeric.py:591: ComplexWarning: Casting complex values to real discards the imaginary part\n",
      "  return array(a, dtype, copy=False, order=order, subok=True)\n"
     ]
    },
    {
     "data": {
      "text/plain": [
       "Text(0, 0.5, 'component 2')"
      ]
     },
     "execution_count": 20,
     "metadata": {},
     "output_type": "execute_result"
    },
    {
     "data": {
      "image/png": "[encoded data removed]",
      "text/plain": [
       "<Figure size 432x288 with 1 Axes>"
      ]
     },
     "metadata": {
      "needs_background": "light"
     },
     "output_type": "display_data"
    }
   ],
   "source": [
    "# scatterplot to show that the transformed data of the first function matches\n",
    "# the transformed data of the PCA package\n",
    "\n",
    "plt.scatter(score1[:, 0], score1[:, 1], alpha=0.4)\n",
    "plt.xlabel('component 1')\n",
    "plt.ylabel('component 2')"
   ]
  },
  {
   "cell_type": "markdown",
   "metadata": {},
   "source": [
    "- Singular values calculated from SVD are more numerically stable (higher numerical accuracy) than the eigenvalues calculated from the eigendecomposition of the covariance matrix. However, measurement error may be more of a contributing factor than calculation error from SVD vs eigendecomposition.\n",
    "\n",
    "- The EIG algorithm is faster than SVD when the number of observations, n, exceeds the number of variables, p, but is less accurate because the condition number of the covariance is the square of the condition number of X. However, the SVD can be applied to the transpose of the matrix in this case, and the left and right singular vectors of the original matri can be derived accordingly.\n",
    "\n",
    "- Therefore, there is a tradeoff between speed and accuracy when doing both methods of eigendecomposition and SVD.\n",
    "\n",
    "- The relationship between the SVD and eigenvalue decomposition is given by the following if $A = USV^T$.\n",
    "    - $A^T A = (USV^T)^T(USV^T) = (VS^TU^T)(USV^T) = VS^2V^T$\n",
    "    - $A A^T = (USV^T)(USV^T)^T = (USV^T)(VS^TU^T) = US^2U^T$\n",
    "\n",
    "    - The columns of V (right-singular vectors) are eigenvectors of $A^T A$.\n",
    "    - The columns of U (left-singular vectors) are eigenvectors of $A A^T$.\n",
    "    - The non-zero elements of $\\Sigma$ (non-zero singular values) are the square roots of the non-zero eigenvalues of $A^T A$ of $A A^T$.\n",
    "\n",
    "\n",
    "- Thus finding an efficient algorithm for SVD is equivalent to a more efficient eigenvalue algorithm. \n"
   ]
  },
  {
   "cell_type": "code",
   "execution_count": 9,
   "metadata": {},
   "outputs": [
    {
     "name": "stdout",
     "output_type": "stream",
     "text": [
      "[7.20089375e+01+0.00000000e+00j 5.25134881e+01+0.00000000e+00j\n",
      " 5.00555952e+01+0.00000000e+00j ... 1.21913596e-07+5.58061417e-07j\n",
      " 1.21913596e-07-5.58061417e-07j 0.00000000e+00+6.18357250e-07j]\n",
      "--- 86.73683500289917 seconds ---\n"
     ]
    }
   ],
   "source": [
    "def SVD(mat, numpc):\n",
    "    # Gives decomposition into USV^T\n",
    "    ATA = np.dot(mat.T, mat) # V = eigenvectors of ATA\n",
    "    # AAT = np.dot(mat, mat.T) # U = eigenvectors of AAT\n",
    "    eigval, V = np.linalg.eig(ATA) # Eigenvalues of ATA\n",
    "    singval = np.diag(np.sqrt(np.sort(eigval)[::-1])) \n",
    "    # take square root of eigenvectors to get singular values\n",
    "    \n",
    "    # singular values are sorted from largest to smallest but singular vectors not sorted yet\n",
    "    \n",
    "    # taking square root gives complex singular values which is not wanted\n",
    "    U = np.dot(mat, np.dot(V, np.linalg.inv(singval)))\n",
    "    PC1 = np.dot(mat, V)\n",
    "    PC2 = np.dot(U, singval)\n",
    "    return U, singval, V, PC1, PC2\n",
    "\n",
    "start_time = time.time()\n",
    "\n",
    "\n",
    "U1, singval1, V1, PC1_1, PC2_1 = SVD(A,2) # A represents the Spellman.csv data\n",
    "\n",
    "print(np.diag(singval1))\n",
    "\n",
    "print(\"--- %s seconds ---\" % (time.time() - start_time))\n",
    "\n"
   ]
  },
  {
   "cell_type": "markdown",
   "metadata": {},
   "source": [
    "The eigenvalues of the following matrix should be positive, but the eigendecomposition returns negative values compared to the accurate positive values returned by the SVD."
   ]
  },
  {
   "cell_type": "code",
   "execution_count": 10,
   "metadata": {},
   "outputs": [
    {
     "name": "stdout",
     "output_type": "stream",
     "text": [
      "[ 3.00000000e+00  6.16297582e-33 -7.50963641e-17]\n",
      "[3.e+00 1.e-18 1.e-18]\n"
     ]
    }
   ],
   "source": [
    "eps = 10e-10\n",
    "mat = np.array([[1, 1, 1],\n",
    "                [eps, 0, 0],\n",
    "                [0, eps, 0],\n",
    "                [0, 0, eps]])\n",
    "\n",
    "print(np.linalg.eig(np.dot(mat.T,mat))[0]) # eigendecomposition\n",
    "\n",
    "print(np.linalg.svd(mat)[1]**2)"
   ]
  },
  {
   "cell_type": "markdown",
   "metadata": {},
   "source": [
    "## Jacobi SVD\n",
    "\n",
    "- The following Jacobi algorithm is based on the Jacobi rotation matrix method. The overall algorithm is an iterative method that implicitly calculates the product $A A^T$ and uses Jacobi rotations to diagonalize the matrix. \n",
    "\n",
    "- A Jacobi rotation is a matrix transformation (taking in $k,l,\\theta$) that sets the off-diagonals equal to 0.\n",
    "    - $Q_{kl} = \n",
    "    \\begin{pmatrix}\n",
    "    1 & \\cdots &0 & \\cdots & 0 & \\cdots & 0 \\\\\n",
    "    \\vdots & \\ddots & \\vdots &  & \\vdots & & \\vdots\\\\\n",
    "    0 & \\cdots & c & \\cdots & s & \\cdots & 0 \\\\\n",
    "    \\vdots &  & \\vdots & \\ddots & \\vdots & & \\vdots\\\\\n",
    "    0 & \\cdots & -s & \\cdots & c & \\cdots & 0 \\\\\n",
    "    \\vdots &  & \\vdots & & \\vdots & \\ddots & \\vdots\\\\\n",
    "    0 & \\cdots & 0 & \\cdots & 0 & \\cdots & 1 \\\\\n",
    "    \\end{pmatrix}$\n",
    "    - In the above matrix, $c = cos\\theta$ and $s = sin\\theta$ and are found in the rows and columns of $k$ and $l$.\n",
    "\n",
    "\n",
    "- Resources:\n",
    "    - http://www.netlib.org/lapack/lawnspdf/lawn15.pdf\n",
    "    - https://www.cs.utexas.edu/users/inderjit/public_papers/HLA_SVD.pdf\n"
   ]
  },
  {
   "cell_type": "code",
   "execution_count": 21,
   "metadata": {},
   "outputs": [],
   "source": [
    "from sklearn.preprocessing import normalize\n",
    "\n",
    "def Jacobi_SVD(mat):\n",
    "    eps = 1e-10\n",
    "    m = mat.shape[0]\n",
    "    n = mat.shape[1]\n",
    "    U = mat\n",
    "    V = np.identity(n)\n",
    "    converge = eps + 1\n",
    "    while converge > eps:\n",
    "        converge = 0\n",
    "        for j in range(1, n):\n",
    "            for i in range(0, j):\n",
    "                A = sum(U[:,i]**2)\n",
    "                B = sum(U[:,j]**2)\n",
    "                C = sum(U[:,i]*U[:,j])\n",
    "                converge = np.maximum(np.array([converge]),np.array([np.absolute(C)/np.sqrt(A*B)]))[0]\n",
    "                if C != 0:\n",
    "                    zeta = (B - A)/(2*C)\n",
    "                    t = np.sign(zeta)/(np.absolute(zeta) + math.sqrt(1 + zeta ** 2))\n",
    "                else:\n",
    "                    t = 0\n",
    "                # cs = cosine, sn = sine used in\n",
    "                # Jacobi rotation matrix \n",
    "                #  [cs  -sn]\n",
    "                #  [sn   cs]\n",
    "                cs = 1/(math.sqrt(1 + t**2))\n",
    "                sn = cs*t\n",
    "                temp1 = U[:,i]\n",
    "                U[:,i] = cs*temp1 - sn*U[:,j]\n",
    "                U[:,j] = sn*temp1 + cs*U[:,j]\n",
    "                temp2 = V[:,i]\n",
    "                V[:,i] = cs*temp2 - sn*V[:,j]\n",
    "                V[:,j] = sn*temp2 + cs*V[:,j]\n",
    "                \n",
    "        if converge < eps:\n",
    "            break\n",
    "    singvals = np.zeros(n)\n",
    "    for j in range(n):\n",
    "        singvals[j] = np.linalg.norm(U[:,j])\n",
    "    U = normalize(U,axis = 0)\n",
    "    Sigma = np.diag(singvals)\n",
    "    V = V.T\n",
    "    return U, np.diag(Sigma), V\n",
    "\n"
   ]
  },
  {
   "cell_type": "markdown",
   "metadata": {},
   "source": [
    "The following demonstration of the Jacobi_SVD implementation shows a significant reduction in computation time when performed on the same Spellman.csv data set, returning the singular values in increasing order."
   ]
  },
  {
   "cell_type": "code",
   "execution_count": 22,
   "metadata": {},
   "outputs": [
    {
     "name": "stdout",
     "output_type": "stream",
     "text": [
      "[3.74017911e-07 7.78322432e-01 8.36094174e-01 1.26291896e+00\n",
      " 1.60874232e+00 1.96727381e+00 2.16013598e+00 2.56936085e+00\n",
      " 2.87245584e+00 2.99316998e+00 3.15768897e+00 3.71775860e+00\n",
      " 3.91005542e+00 4.30149497e+00 4.54908075e+00 6.44282230e+00\n",
      " 7.40067348e+00 8.10059031e+00 9.34496281e+00 1.31575801e+01\n",
      " 2.18908009e+01 3.42716459e+01 5.74451660e+01]\n",
      "---Jacobi_SVD Time: 9.98662805557251 seconds ---\n",
      "[3.74017908e-07 7.78322432e-01 8.36094174e-01 1.26291896e+00\n",
      " 1.60874232e+00 1.96727381e+00 2.16013598e+00 2.56936085e+00\n",
      " 2.87245584e+00 2.99316998e+00 3.15768897e+00 3.71775860e+00\n",
      " 3.91005542e+00 4.30149497e+00 4.54908075e+00 6.44282230e+00\n",
      " 7.40067348e+00 8.10059031e+00 9.34496281e+00 1.31575801e+01\n",
      " 2.18908009e+01 3.42716459e+01 5.74451660e+01]\n",
      "---Numpy SVD Time: 0.018218994140625 seconds ---\n"
     ]
    }
   ],
   "source": [
    "data1 = pd.read_csv('Spellman.csv')\n",
    "A = np.array(data1.iloc[:,1:])\n",
    "\n",
    "start_time = time.time()\n",
    "\n",
    "\n",
    "(u, s, v) = Jacobi_SVD(A.T) # Jacobi SVD performed on same Spellman.csv\n",
    "\n",
    "print(np.sort(s))\n",
    "\n",
    "\n",
    "print(\"---Jacobi_SVD Time: %s seconds ---\" % (time.time() - start_time))\n",
    "\n",
    "\n",
    "start_time = time.time()\n",
    "\n",
    "print(np.sort(np.linalg.svd(A, full_matrices = False)[1]))\n",
    "\n",
    "print(\"---Numpy SVD Time: %s seconds ---\" % (time.time() - start_time))\n"
   ]
  }
 ],
 "metadata": {
  "kernelspec": {
   "display_name": "Python 3",
   "language": "python",
   "name": "python3"
  },
  "language_info": {
   "codemirror_mode": {
    "name": "ipython",
    "version": 3
   },
   "file_extension": ".py",
   "mimetype": "text/x-python",
   "name": "python",
   "nbconvert_exporter": "python",
   "pygments_lexer": "ipython3",
   "version": "3.7.3"
  }
 },
 "nbformat": 4,
 "nbformat_minor": 2
}
